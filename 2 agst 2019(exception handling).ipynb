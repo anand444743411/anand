{
 "cells": [
  {
   "cell_type": "code",
   "execution_count": 6,
   "metadata": {},
   "outputs": [
    {
     "name": "stdout",
     "output_type": "stream",
     "text": [
      "enter a value : 10\n",
      "enter b value : 0\n",
      "invalid\n",
      "bye\n"
     ]
    }
   ],
   "source": [
    "a=int(input(\"enter a value : \"))\n",
    "b=int(input(\"enter b value : \"))\n",
    "try:\n",
    "    print(a//b)\n",
    "except:\n",
    "    print(\"invalid\")\n",
    "finally:\n",
    "    print(\"bye\")"
   ]
  },
  {
   "cell_type": "code",
   "execution_count": 4,
   "metadata": {},
   "outputs": [
    {
     "data": {
      "text/plain": [
       "5.0"
      ]
     },
     "execution_count": 4,
     "metadata": {},
     "output_type": "execute_result"
    }
   ],
   "source": [
    "10/2\n"
   ]
  },
  {
   "cell_type": "code",
   "execution_count": 16,
   "metadata": {},
   "outputs": [
    {
     "name": "stdout",
     "output_type": "stream",
     "text": [
      "enter a value : 10\n",
      "enter b value : 0\n",
      "invalid integer division or modulo by zero\n",
      "bye\n"
     ]
    }
   ],
   "source": [
    "a=int(input(\"enter a value : \"))\n",
    "b=int(input(\"enter b value : \"))\n",
    "try:\n",
    "    print(a//b)\n",
    "except Exception as e:\n",
    "    print(\"invalid\",e)\n",
    "finally:\n",
    "    print(\"bye\")"
   ]
  },
  {
   "cell_type": "code",
   "execution_count": null,
   "metadata": {},
   "outputs": [],
   "source": [
    "a=int(input(\"enter age : \"))\n",
    "b=int(input(\"enter b value : \"))\n",
    "try:\n",
    "    print(a//b)\n",
    "except Exception as e:\n",
    "    print(\"invalid\",e)\n",
    "finally:\n",
    "    print(\"bye\")"
   ]
  },
  {
   "cell_type": "code",
   "execution_count": 21,
   "metadata": {
    "scrolled": true
   },
   "outputs": [
    {
     "name": "stdout",
     "output_type": "stream",
     "text": [
      "Enter Age : -12\n"
     ]
    },
    {
     "ename": "Exception",
     "evalue": "Only positive integers are allowed",
     "output_type": "error",
     "traceback": [
      "\u001b[1;31m---------------------------------------------------------------------------\u001b[0m",
      "\u001b[1;31mException\u001b[0m                                 Traceback (most recent call last)",
      "\u001b[1;32m<ipython-input-21-0d64489e1805>\u001b[0m in \u001b[0;36m<module>\u001b[1;34m\u001b[0m\n\u001b[0;32m      1\u001b[0m \u001b[0mage\u001b[0m \u001b[1;33m=\u001b[0m \u001b[0mint\u001b[0m\u001b[1;33m(\u001b[0m\u001b[0minput\u001b[0m\u001b[1;33m(\u001b[0m\u001b[1;34m\"Enter Age : \"\u001b[0m\u001b[1;33m)\u001b[0m\u001b[1;33m)\u001b[0m\u001b[1;33m\u001b[0m\u001b[1;33m\u001b[0m\u001b[0m\n\u001b[0;32m      2\u001b[0m \u001b[1;32mif\u001b[0m \u001b[0mage\u001b[0m \u001b[1;33m<\u001b[0m \u001b[1;36m0\u001b[0m\u001b[1;33m:\u001b[0m\u001b[1;33m\u001b[0m\u001b[1;33m\u001b[0m\u001b[0m\n\u001b[1;32m----> 3\u001b[1;33m         \u001b[1;32mraise\u001b[0m \u001b[0mException\u001b[0m\u001b[1;33m(\u001b[0m\u001b[1;34m\"Only positive integers are allowed\"\u001b[0m\u001b[1;33m)\u001b[0m\u001b[1;33m\u001b[0m\u001b[1;33m\u001b[0m\u001b[0m\n\u001b[0m\u001b[0;32m      4\u001b[0m \u001b[1;33m\u001b[0m\u001b[0m\n\u001b[0;32m      5\u001b[0m \u001b[1;33m\u001b[0m\u001b[0m\n",
      "\u001b[1;31mException\u001b[0m: Only positive integers are allowed"
     ]
    }
   ],
   "source": [
    "age = int(input(\"Enter Age : \"))\n",
    "if age < 0:\n",
    "        raise Exception(\"Only positive integers are allowed\")\n",
    "if (age>=18):\n",
    "    print(\"Eligible\")\n",
    "else:\n",
    "    raise Exception(\"Not Eligible\")\n"
   ]
  },
  {
   "cell_type": "code",
   "execution_count": 12,
   "metadata": {},
   "outputs": [
    {
     "name": "stdout",
     "output_type": "stream",
     "text": [
      "Enter your age : 45\n",
      "Eligible to vote\n"
     ]
    }
   ],
   "source": [
    "def main():\n",
    "    #get the age    \n",
    "    try:\n",
    "        age=int(input(\"Enter your age : \"))\n",
    "        if age>18:\n",
    "            print(\"Eligible to vote\")\n",
    "        else:\n",
    "            print(\"Not eligible to vote\")    \n",
    "    except:\n",
    "        print(\"age must be a valid number\")    \n",
    "main()"
   ]
  },
  {
   "cell_type": "code",
   "execution_count": null,
   "metadata": {},
   "outputs": [],
   "source": [
    "-45"
   ]
  },
  {
   "cell_type": "code",
   "execution_count": 18,
   "metadata": {},
   "outputs": [
    {
     "name": "stdout",
     "output_type": "stream",
     "text": [
      "Enter a:10\n",
      "Enter b:0\n",
      "can't divide by zero\n"
     ]
    }
   ],
   "source": [
    "try:\n",
    "    a = int(input(\"Enter a:\"))  \n",
    "    b = int(input(\"Enter b:\"))  \n",
    "    c = a/b\n",
    "    print(\"a/b = \")  \n",
    "except Exception:  \n",
    "    print(\"can't divide by zero\")  \n",
    "else:  \n",
    "    print(\"Hi I am else block\")"
   ]
  },
  {
   "cell_type": "code",
   "execution_count": 25,
   "metadata": {},
   "outputs": [
    {
     "name": "stdout",
     "output_type": "stream",
     "text": [
      "Variable x is not defined\n"
     ]
    }
   ],
   "source": [
    "try:\n",
    "  print(v)\n",
    "except NameError:\n",
    "  print(\"Variable x is not defined\")\n",
    "except:\n",
    "  print(\"Something else went wrong\")"
   ]
  },
  {
   "cell_type": "markdown",
   "metadata": {},
   "source": [
    "# multi threading"
   ]
  },
  {
   "cell_type": "code",
   "execution_count": 30,
   "metadata": {},
   "outputs": [
    {
     "name": "stdout",
     "output_type": "stream",
     "text": [
      "anand\n",
      "anand\n",
      "anand\n",
      "anand\n",
      "anand\n",
      "anand\n",
      "anand\n",
      "anand\n",
      "anand\n",
      "kumar\n",
      "kumar\n",
      "kumar\n",
      "kumar\n",
      "kumar\n",
      "kumar\n",
      "kumar\n",
      "kumar\n",
      "kumar\n"
     ]
    }
   ],
   "source": [
    "from threading import *\n",
    "class A: \n",
    "    def annu(threading):\n",
    "        for i in range(1,10):\n",
    "            print(\"anand\")\n",
    "class B:\n",
    "    def annu(threading):\n",
    "        for i in range(1,10):\n",
    "            print(\"kumar\")\n",
    "a=A()\n",
    "a.annu()\n",
    "b=B()\n",
    "b.annu()\n",
    "    \n",
    "    \n"
   ]
  },
  {
   "cell_type": "code",
   "execution_count": 32,
   "metadata": {},
   "outputs": [
    {
     "name": "stdout",
     "output_type": "stream",
     "text": [
      "anand\n",
      "anand\n",
      "anand\n",
      "anand\n",
      "anand\n",
      "anand\n",
      "anand\n",
      "anand\n",
      "anand\n",
      "kumar\n",
      "kumar\n",
      "kumar\n",
      "kumar\n",
      "kumar\n",
      "kumar\n",
      "kumar\n",
      "kumar\n",
      "kumar\n"
     ]
    }
   ],
   "source": [
    "from threading import *\n",
    "from time import sleep\n",
    "class A: \n",
    "    def annu(threading):\n",
    "        for i in range(1,10):\n",
    "            print(\"anand\")\n",
    "            sleep(1)\n",
    "class B:\n",
    "    def annu(threading):\n",
    "        for i in range(1,10):\n",
    "            print(\"kumar\")\n",
    "            sleep(3)\n",
    "a=A()\n",
    "a.annu()\n",
    "sleep(0.1)\n",
    "b=B()\n",
    "b.annu()"
   ]
  },
  {
   "cell_type": "code",
   "execution_count": null,
   "metadata": {},
   "outputs": [],
   "source": []
  }
 ],
 "metadata": {
  "kernelspec": {
   "display_name": "Python 3",
   "language": "python",
   "name": "python3"
  },
  "language_info": {
   "codemirror_mode": {
    "name": "ipython",
    "version": 3
   },
   "file_extension": ".py",
   "mimetype": "text/x-python",
   "name": "python",
   "nbconvert_exporter": "python",
   "pygments_lexer": "ipython3",
   "version": "3.7.3"
  }
 },
 "nbformat": 4,
 "nbformat_minor": 2
}
