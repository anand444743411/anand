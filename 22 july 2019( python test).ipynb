{
 "cells": [
  {
   "cell_type": "markdown",
   "metadata": {},
   "source": [
    "# 1. [1,4,5,6,9] - 14569"
   ]
  },
  {
   "cell_type": "code",
   "execution_count": 30,
   "metadata": {},
   "outputs": [
    {
     "name": "stdout",
     "output_type": "stream",
     "text": [
      "14569\n"
     ]
    }
   ],
   "source": [
    "l1=[1,4,5,6,9]\n",
    "def annu(l1):\n",
    "    r = 0\n",
    "    for i in l1:\n",
    "        r=r*10+i\n",
    "    return r\n",
    "print(annu(l1))"
   ]
  },
  {
   "cell_type": "markdown",
   "metadata": {},
   "source": [
    "# [1,4,5,6,9] - 46(Consider only even numbers from list)"
   ]
  },
  {
   "cell_type": "code",
   "execution_count": 42,
   "metadata": {},
   "outputs": [
    {
     "name": "stdout",
     "output_type": "stream",
     "text": [
      "46"
     ]
    }
   ],
   "source": [
    "l1=[1,4,5,6,9]\n",
    "def annu1(l1):\n",
    "    r=0\n",
    "    for i in l1:\n",
    "        if i%2==0:\n",
    "            print(i,end=\"\")\n",
    "annu1(l1)\n",
    "        \n",
    "        "
   ]
  },
  {
   "cell_type": "code",
   "execution_count": null,
   "metadata": {},
   "outputs": [],
   "source": []
  }
 ],
 "metadata": {
  "kernelspec": {
   "display_name": "Python 3",
   "language": "python",
   "name": "python3"
  },
  "language_info": {
   "codemirror_mode": {
    "name": "ipython",
    "version": 3
   },
   "file_extension": ".py",
   "mimetype": "text/x-python",
   "name": "python",
   "nbconvert_exporter": "python",
   "pygments_lexer": "ipython3",
   "version": "3.7.3"
  }
 },
 "nbformat": 4,
 "nbformat_minor": 2
}
