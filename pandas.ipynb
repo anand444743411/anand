{
 "cells": [
  {
   "cell_type": "code",
   "execution_count": 1,
   "metadata": {},
   "outputs": [],
   "source": [
    "import pandas as pd"
   ]
  },
  {
   "cell_type": "code",
   "execution_count": 70,
   "metadata": {},
   "outputs": [],
   "source": [
    "lst1=pd.DataFrame({\"name\":[\"anand\",\"preethi\",\"mounika\"],\"age\":[28,34,45]})"
   ]
  },
  {
   "cell_type": "code",
   "execution_count": 4,
   "metadata": {},
   "outputs": [
    {
     "data": {
      "text/html": [
       "<div>\n",
       "<style scoped>\n",
       "    .dataframe tbody tr th:only-of-type {\n",
       "        vertical-align: middle;\n",
       "    }\n",
       "\n",
       "    .dataframe tbody tr th {\n",
       "        vertical-align: top;\n",
       "    }\n",
       "\n",
       "    .dataframe thead th {\n",
       "        text-align: right;\n",
       "    }\n",
       "</style>\n",
       "<table border=\"1\" class=\"dataframe\">\n",
       "  <thead>\n",
       "    <tr style=\"text-align: right;\">\n",
       "      <th></th>\n",
       "      <th>name</th>\n",
       "      <th>age</th>\n",
       "    </tr>\n",
       "  </thead>\n",
       "  <tbody>\n",
       "    <tr>\n",
       "      <th>0</th>\n",
       "      <td>anand</td>\n",
       "      <td>28</td>\n",
       "    </tr>\n",
       "    <tr>\n",
       "      <th>1</th>\n",
       "      <td>preethi</td>\n",
       "      <td>34</td>\n",
       "    </tr>\n",
       "    <tr>\n",
       "      <th>2</th>\n",
       "      <td>mounika</td>\n",
       "      <td>45</td>\n",
       "    </tr>\n",
       "  </tbody>\n",
       "</table>\n",
       "</div>"
      ],
      "text/plain": [
       "      name  age\n",
       "0    anand   28\n",
       "1  preethi   34\n",
       "2  mounika   45"
      ]
     },
     "execution_count": 4,
     "metadata": {},
     "output_type": "execute_result"
    }
   ],
   "source": [
    "lst1"
   ]
  },
  {
   "cell_type": "code",
   "execution_count": 5,
   "metadata": {},
   "outputs": [
    {
     "data": {
      "text/html": [
       "<div>\n",
       "<style scoped>\n",
       "    .dataframe tbody tr th:only-of-type {\n",
       "        vertical-align: middle;\n",
       "    }\n",
       "\n",
       "    .dataframe tbody tr th {\n",
       "        vertical-align: top;\n",
       "    }\n",
       "\n",
       "    .dataframe thead th {\n",
       "        text-align: right;\n",
       "    }\n",
       "</style>\n",
       "<table border=\"1\" class=\"dataframe\">\n",
       "  <thead>\n",
       "    <tr style=\"text-align: right;\">\n",
       "      <th></th>\n",
       "      <th>name</th>\n",
       "      <th>age</th>\n",
       "    </tr>\n",
       "  </thead>\n",
       "  <tbody>\n",
       "    <tr>\n",
       "      <th>0</th>\n",
       "      <td>anand</td>\n",
       "      <td>28</td>\n",
       "    </tr>\n",
       "    <tr>\n",
       "      <th>1</th>\n",
       "      <td>preethi</td>\n",
       "      <td>34</td>\n",
       "    </tr>\n",
       "  </tbody>\n",
       "</table>\n",
       "</div>"
      ],
      "text/plain": [
       "      name  age\n",
       "0    anand   28\n",
       "1  preethi   34"
      ]
     },
     "execution_count": 5,
     "metadata": {},
     "output_type": "execute_result"
    }
   ],
   "source": [
    "lst1.head(2)"
   ]
  },
  {
   "cell_type": "code",
   "execution_count": 6,
   "metadata": {},
   "outputs": [
    {
     "data": {
      "text/plain": [
       "0      anand\n",
       "1    preethi\n",
       "2    mounika\n",
       "Name: name, dtype: object"
      ]
     },
     "execution_count": 6,
     "metadata": {},
     "output_type": "execute_result"
    }
   ],
   "source": [
    "lst1.name #only names"
   ]
  },
  {
   "cell_type": "code",
   "execution_count": 8,
   "metadata": {},
   "outputs": [
    {
     "data": {
      "text/plain": [
       "(3, 2)"
      ]
     },
     "execution_count": 8,
     "metadata": {},
     "output_type": "execute_result"
    }
   ],
   "source": [
    "lst1.shape # counting row nd columns\n"
   ]
  },
  {
   "cell_type": "code",
   "execution_count": 11,
   "metadata": {},
   "outputs": [],
   "source": [
    "lst1.rename(columns={'name':\"NAME\"},inplace=True)"
   ]
  },
  {
   "cell_type": "code",
   "execution_count": 13,
   "metadata": {},
   "outputs": [
    {
     "data": {
      "text/html": [
       "<div>\n",
       "<style scoped>\n",
       "    .dataframe tbody tr th:only-of-type {\n",
       "        vertical-align: middle;\n",
       "    }\n",
       "\n",
       "    .dataframe tbody tr th {\n",
       "        vertical-align: top;\n",
       "    }\n",
       "\n",
       "    .dataframe thead th {\n",
       "        text-align: right;\n",
       "    }\n",
       "</style>\n",
       "<table border=\"1\" class=\"dataframe\">\n",
       "  <thead>\n",
       "    <tr style=\"text-align: right;\">\n",
       "      <th></th>\n",
       "      <th>NAME</th>\n",
       "      <th>age</th>\n",
       "    </tr>\n",
       "  </thead>\n",
       "  <tbody>\n",
       "    <tr>\n",
       "      <th>0</th>\n",
       "      <td>anand</td>\n",
       "      <td>28</td>\n",
       "    </tr>\n",
       "    <tr>\n",
       "      <th>1</th>\n",
       "      <td>preethi</td>\n",
       "      <td>34</td>\n",
       "    </tr>\n",
       "    <tr>\n",
       "      <th>2</th>\n",
       "      <td>mounika</td>\n",
       "      <td>45</td>\n",
       "    </tr>\n",
       "  </tbody>\n",
       "</table>\n",
       "</div>"
      ],
      "text/plain": [
       "      NAME  age\n",
       "0    anand   28\n",
       "1  preethi   34\n",
       "2  mounika   45"
      ]
     },
     "execution_count": 13,
     "metadata": {},
     "output_type": "execute_result"
    }
   ],
   "source": [
    "lst1"
   ]
  },
  {
   "cell_type": "code",
   "execution_count": 19,
   "metadata": {},
   "outputs": [
    {
     "data": {
      "text/plain": [
       "2    45\n",
       "1    34\n",
       "0    28\n",
       "Name: age, dtype: int64"
      ]
     },
     "execution_count": 19,
     "metadata": {},
     "output_type": "execute_result"
    }
   ],
   "source": [
    "lst1.age.sort_values(ascending=False)"
   ]
  },
  {
   "cell_type": "code",
   "execution_count": null,
   "metadata": {},
   "outputs": [],
   "source": []
  },
  {
   "cell_type": "code",
   "execution_count": 2,
   "metadata": {},
   "outputs": [
    {
     "ename": "EmptyDataError",
     "evalue": "No columns to parse from file",
     "output_type": "error",
     "traceback": [
      "\u001b[1;31m---------------------------------------------------------------------------\u001b[0m",
      "\u001b[1;31mEmptyDataError\u001b[0m                            Traceback (most recent call last)",
      "\u001b[1;32m<ipython-input-2-6268740e8b6c>\u001b[0m in \u001b[0;36m<module>\u001b[1;34m\u001b[0m\n\u001b[0;32m      1\u001b[0m \u001b[1;32mimport\u001b[0m \u001b[0mpandas\u001b[0m \u001b[1;32mas\u001b[0m \u001b[0mpd\u001b[0m\u001b[1;33m\u001b[0m\u001b[1;33m\u001b[0m\u001b[0m\n\u001b[1;32m----> 2\u001b[1;33m \u001b[0ma\u001b[0m\u001b[1;33m=\u001b[0m\u001b[0mpd\u001b[0m\u001b[1;33m.\u001b[0m\u001b[0mread_csv\u001b[0m\u001b[1;33m(\u001b[0m\u001b[1;34mr\"C:\\Users\\Admin\\Downloads\\a.csv\"\u001b[0m\u001b[1;33m)\u001b[0m\u001b[1;33m\u001b[0m\u001b[1;33m\u001b[0m\u001b[0m\n\u001b[0m\u001b[0;32m      3\u001b[0m \u001b[0ma\u001b[0m\u001b[1;33m.\u001b[0m\u001b[0mhead\u001b[0m\u001b[1;33m(\u001b[0m\u001b[1;36m10\u001b[0m\u001b[1;33m)\u001b[0m\u001b[1;33m\u001b[0m\u001b[1;33m\u001b[0m\u001b[0m\n",
      "\u001b[1;32m~\\Anaconda3\\lib\\site-packages\\pandas\\io\\parsers.py\u001b[0m in \u001b[0;36mparser_f\u001b[1;34m(filepath_or_buffer, sep, delimiter, header, names, index_col, usecols, squeeze, prefix, mangle_dupe_cols, dtype, engine, converters, true_values, false_values, skipinitialspace, skiprows, skipfooter, nrows, na_values, keep_default_na, na_filter, verbose, skip_blank_lines, parse_dates, infer_datetime_format, keep_date_col, date_parser, dayfirst, iterator, chunksize, compression, thousands, decimal, lineterminator, quotechar, quoting, doublequote, escapechar, comment, encoding, dialect, tupleize_cols, error_bad_lines, warn_bad_lines, delim_whitespace, low_memory, memory_map, float_precision)\u001b[0m\n\u001b[0;32m    700\u001b[0m                     skip_blank_lines=skip_blank_lines)\n\u001b[0;32m    701\u001b[0m \u001b[1;33m\u001b[0m\u001b[0m\n\u001b[1;32m--> 702\u001b[1;33m         \u001b[1;32mreturn\u001b[0m \u001b[0m_read\u001b[0m\u001b[1;33m(\u001b[0m\u001b[0mfilepath_or_buffer\u001b[0m\u001b[1;33m,\u001b[0m \u001b[0mkwds\u001b[0m\u001b[1;33m)\u001b[0m\u001b[1;33m\u001b[0m\u001b[1;33m\u001b[0m\u001b[0m\n\u001b[0m\u001b[0;32m    703\u001b[0m \u001b[1;33m\u001b[0m\u001b[0m\n\u001b[0;32m    704\u001b[0m     \u001b[0mparser_f\u001b[0m\u001b[1;33m.\u001b[0m\u001b[0m__name__\u001b[0m \u001b[1;33m=\u001b[0m \u001b[0mname\u001b[0m\u001b[1;33m\u001b[0m\u001b[1;33m\u001b[0m\u001b[0m\n",
      "\u001b[1;32m~\\Anaconda3\\lib\\site-packages\\pandas\\io\\parsers.py\u001b[0m in \u001b[0;36m_read\u001b[1;34m(filepath_or_buffer, kwds)\u001b[0m\n\u001b[0;32m    427\u001b[0m \u001b[1;33m\u001b[0m\u001b[0m\n\u001b[0;32m    428\u001b[0m     \u001b[1;31m# Create the parser.\u001b[0m\u001b[1;33m\u001b[0m\u001b[1;33m\u001b[0m\u001b[1;33m\u001b[0m\u001b[0m\n\u001b[1;32m--> 429\u001b[1;33m     \u001b[0mparser\u001b[0m \u001b[1;33m=\u001b[0m \u001b[0mTextFileReader\u001b[0m\u001b[1;33m(\u001b[0m\u001b[0mfilepath_or_buffer\u001b[0m\u001b[1;33m,\u001b[0m \u001b[1;33m**\u001b[0m\u001b[0mkwds\u001b[0m\u001b[1;33m)\u001b[0m\u001b[1;33m\u001b[0m\u001b[1;33m\u001b[0m\u001b[0m\n\u001b[0m\u001b[0;32m    430\u001b[0m \u001b[1;33m\u001b[0m\u001b[0m\n\u001b[0;32m    431\u001b[0m     \u001b[1;32mif\u001b[0m \u001b[0mchunksize\u001b[0m \u001b[1;32mor\u001b[0m \u001b[0miterator\u001b[0m\u001b[1;33m:\u001b[0m\u001b[1;33m\u001b[0m\u001b[1;33m\u001b[0m\u001b[0m\n",
      "\u001b[1;32m~\\Anaconda3\\lib\\site-packages\\pandas\\io\\parsers.py\u001b[0m in \u001b[0;36m__init__\u001b[1;34m(self, f, engine, **kwds)\u001b[0m\n\u001b[0;32m    893\u001b[0m             \u001b[0mself\u001b[0m\u001b[1;33m.\u001b[0m\u001b[0moptions\u001b[0m\u001b[1;33m[\u001b[0m\u001b[1;34m'has_index_names'\u001b[0m\u001b[1;33m]\u001b[0m \u001b[1;33m=\u001b[0m \u001b[0mkwds\u001b[0m\u001b[1;33m[\u001b[0m\u001b[1;34m'has_index_names'\u001b[0m\u001b[1;33m]\u001b[0m\u001b[1;33m\u001b[0m\u001b[1;33m\u001b[0m\u001b[0m\n\u001b[0;32m    894\u001b[0m \u001b[1;33m\u001b[0m\u001b[0m\n\u001b[1;32m--> 895\u001b[1;33m         \u001b[0mself\u001b[0m\u001b[1;33m.\u001b[0m\u001b[0m_make_engine\u001b[0m\u001b[1;33m(\u001b[0m\u001b[0mself\u001b[0m\u001b[1;33m.\u001b[0m\u001b[0mengine\u001b[0m\u001b[1;33m)\u001b[0m\u001b[1;33m\u001b[0m\u001b[1;33m\u001b[0m\u001b[0m\n\u001b[0m\u001b[0;32m    896\u001b[0m \u001b[1;33m\u001b[0m\u001b[0m\n\u001b[0;32m    897\u001b[0m     \u001b[1;32mdef\u001b[0m \u001b[0mclose\u001b[0m\u001b[1;33m(\u001b[0m\u001b[0mself\u001b[0m\u001b[1;33m)\u001b[0m\u001b[1;33m:\u001b[0m\u001b[1;33m\u001b[0m\u001b[1;33m\u001b[0m\u001b[0m\n",
      "\u001b[1;32m~\\Anaconda3\\lib\\site-packages\\pandas\\io\\parsers.py\u001b[0m in \u001b[0;36m_make_engine\u001b[1;34m(self, engine)\u001b[0m\n\u001b[0;32m   1120\u001b[0m     \u001b[1;32mdef\u001b[0m \u001b[0m_make_engine\u001b[0m\u001b[1;33m(\u001b[0m\u001b[0mself\u001b[0m\u001b[1;33m,\u001b[0m \u001b[0mengine\u001b[0m\u001b[1;33m=\u001b[0m\u001b[1;34m'c'\u001b[0m\u001b[1;33m)\u001b[0m\u001b[1;33m:\u001b[0m\u001b[1;33m\u001b[0m\u001b[1;33m\u001b[0m\u001b[0m\n\u001b[0;32m   1121\u001b[0m         \u001b[1;32mif\u001b[0m \u001b[0mengine\u001b[0m \u001b[1;33m==\u001b[0m \u001b[1;34m'c'\u001b[0m\u001b[1;33m:\u001b[0m\u001b[1;33m\u001b[0m\u001b[1;33m\u001b[0m\u001b[0m\n\u001b[1;32m-> 1122\u001b[1;33m             \u001b[0mself\u001b[0m\u001b[1;33m.\u001b[0m\u001b[0m_engine\u001b[0m \u001b[1;33m=\u001b[0m \u001b[0mCParserWrapper\u001b[0m\u001b[1;33m(\u001b[0m\u001b[0mself\u001b[0m\u001b[1;33m.\u001b[0m\u001b[0mf\u001b[0m\u001b[1;33m,\u001b[0m \u001b[1;33m**\u001b[0m\u001b[0mself\u001b[0m\u001b[1;33m.\u001b[0m\u001b[0moptions\u001b[0m\u001b[1;33m)\u001b[0m\u001b[1;33m\u001b[0m\u001b[1;33m\u001b[0m\u001b[0m\n\u001b[0m\u001b[0;32m   1123\u001b[0m         \u001b[1;32melse\u001b[0m\u001b[1;33m:\u001b[0m\u001b[1;33m\u001b[0m\u001b[1;33m\u001b[0m\u001b[0m\n\u001b[0;32m   1124\u001b[0m             \u001b[1;32mif\u001b[0m \u001b[0mengine\u001b[0m \u001b[1;33m==\u001b[0m \u001b[1;34m'python'\u001b[0m\u001b[1;33m:\u001b[0m\u001b[1;33m\u001b[0m\u001b[1;33m\u001b[0m\u001b[0m\n",
      "\u001b[1;32m~\\Anaconda3\\lib\\site-packages\\pandas\\io\\parsers.py\u001b[0m in \u001b[0;36m__init__\u001b[1;34m(self, src, **kwds)\u001b[0m\n\u001b[0;32m   1851\u001b[0m         \u001b[0mkwds\u001b[0m\u001b[1;33m[\u001b[0m\u001b[1;34m'usecols'\u001b[0m\u001b[1;33m]\u001b[0m \u001b[1;33m=\u001b[0m \u001b[0mself\u001b[0m\u001b[1;33m.\u001b[0m\u001b[0musecols\u001b[0m\u001b[1;33m\u001b[0m\u001b[1;33m\u001b[0m\u001b[0m\n\u001b[0;32m   1852\u001b[0m \u001b[1;33m\u001b[0m\u001b[0m\n\u001b[1;32m-> 1853\u001b[1;33m         \u001b[0mself\u001b[0m\u001b[1;33m.\u001b[0m\u001b[0m_reader\u001b[0m \u001b[1;33m=\u001b[0m \u001b[0mparsers\u001b[0m\u001b[1;33m.\u001b[0m\u001b[0mTextReader\u001b[0m\u001b[1;33m(\u001b[0m\u001b[0msrc\u001b[0m\u001b[1;33m,\u001b[0m \u001b[1;33m**\u001b[0m\u001b[0mkwds\u001b[0m\u001b[1;33m)\u001b[0m\u001b[1;33m\u001b[0m\u001b[1;33m\u001b[0m\u001b[0m\n\u001b[0m\u001b[0;32m   1854\u001b[0m         \u001b[0mself\u001b[0m\u001b[1;33m.\u001b[0m\u001b[0munnamed_cols\u001b[0m \u001b[1;33m=\u001b[0m \u001b[0mself\u001b[0m\u001b[1;33m.\u001b[0m\u001b[0m_reader\u001b[0m\u001b[1;33m.\u001b[0m\u001b[0munnamed_cols\u001b[0m\u001b[1;33m\u001b[0m\u001b[1;33m\u001b[0m\u001b[0m\n\u001b[0;32m   1855\u001b[0m \u001b[1;33m\u001b[0m\u001b[0m\n",
      "\u001b[1;32mpandas/_libs/parsers.pyx\u001b[0m in \u001b[0;36mpandas._libs.parsers.TextReader.__cinit__\u001b[1;34m()\u001b[0m\n",
      "\u001b[1;31mEmptyDataError\u001b[0m: No columns to parse from file"
     ]
    }
   ],
   "source": [
    "import pandas as pd\n",
    "a=pd.read_csv(r\"C:\\Users\\Admin\\Downloads\\a.csv\")\n",
    "a.head(10)"
   ]
  },
  {
   "cell_type": "code",
   "execution_count": 5,
   "metadata": {},
   "outputs": [
    {
     "name": "stdout",
     "output_type": "stream",
     "text": [
      "    name  marks\n",
      "0  anand     23\n",
      "1   ramu     43\n",
      "2    sai     34\n",
      "3   ajay     54\n"
     ]
    }
   ],
   "source": [
    "import pandas as s\n",
    "b={\"name\":[\"anand\",\"ramu\",\"sai\",\"ajay\"],\"marks\":[23,43,34,54]}\n",
    "c=s.DataFrame(b)\n",
    "print(c)"
   ]
  },
  {
   "cell_type": "markdown",
   "metadata": {},
   "source": [
    "# 24 july 2019"
   ]
  },
  {
   "cell_type": "markdown",
   "metadata": {},
   "source": [
    "# matplotlib"
   ]
  },
  {
   "cell_type": "code",
   "execution_count": 12,
   "metadata": {},
   "outputs": [
    {
     "data": {
      "text/plain": [
       "Text(0.5, 1.0, 'anand')"
      ]
     },
     "execution_count": 12,
     "metadata": {},
     "output_type": "execute_result"
    },
    {
     "data": {
      "image/png": "[encoded data removed]",
      "text/plain": [
       "<Figure size 432x288 with 1 Axes>"
      ]
     },
     "metadata": {
      "needs_background": "light"
     },
     "output_type": "display_data"
    }
   ],
   "source": [
    "import matplotlib.pyplot as plt\n",
    "\n",
    "x=[1,2,3,4]\n",
    "y=[5,6,7,8]\n",
    "plt.plot(x,y,marker=\"x\",color=\"yellow\",linestyle=\"-.\")\n",
    "plt.xlabel(\"x-axis\")\n",
    "plt.ylabel(\"y-axis\")\n",
    "plt.title(\"anand\")\n"
   ]
  },
  {
   "cell_type": "code",
   "execution_count": 13,
   "metadata": {},
   "outputs": [
    {
     "data": {
      "text/plain": [
       "[<matplotlib.lines.Line2D at 0x5cc6828>]"
      ]
     },
     "execution_count": 13,
     "metadata": {},
     "output_type": "execute_result"
    },
    {
     "data": {
      "image/png": "[encoded data removed]",
      "text/plain": [
       "<Figure size 432x288 with 1 Axes>"
      ]
     },
     "metadata": {
      "needs_background": "light"
     },
     "output_type": "display_data"
    }
   ],
   "source": [
    "plt.plot([1,4,5,6,7],[4,6,8,6,9])"
   ]
  },
  {
   "cell_type": "code",
   "execution_count": 21,
   "metadata": {},
   "outputs": [
    {
     "data": {
      "text/plain": [
       "<BarContainer object of 4 artists>"
      ]
     },
     "execution_count": 21,
     "metadata": {},
     "output_type": "execute_result"
    },
    {
     "data": {
      "image/png": "[encoded data removed]",
      "text/plain": [
       "<Figure size 432x288 with 1 Axes>"
      ]
     },
     "metadata": {
      "needs_background": "light"
     },
     "output_type": "display_data"
    }
   ],
   "source": [
    "marks=[45,64,76,98]\n",
    "division=[\"a\",\"c\",\"y\",\"u\"]\n",
    "plt.bar(division,marks,width=0.5,color=\"blue\",label=\"marks\")\n"
   ]
  },
  {
   "cell_type": "code",
   "execution_count": 22,
   "metadata": {},
   "outputs": [
    {
     "data": {
      "text/plain": [
       "<BarContainer object of 4 artists>"
      ]
     },
     "execution_count": 22,
     "metadata": {},
     "output_type": "execute_result"
    },
    {
     "data": {
      "image/png": "[encoded data removed]",
      "text/plain": [
       "<Figure size 432x288 with 1 Axes>"
      ]
     },
     "metadata": {
      "needs_background": "light"
     },
     "output_type": "display_data"
    }
   ],
   "source": [
    "plt.barh(division,marks,color=\"blue\")"
   ]
  },
  {
   "cell_type": "code",
   "execution_count": 26,
   "metadata": {},
   "outputs": [
    {
     "data": {
      "text/plain": [
       "([<matplotlib.patches.Wedge at 0x8e93c18>,\n",
       "  <matplotlib.patches.Wedge at 0x8e9c390>,\n",
       "  <matplotlib.patches.Wedge at 0x8e9ca90>],\n",
       " [Text(0.8150462378904552, 0.7387148503317202, 'sai'),\n",
       "  Text(-0.9244932598069168, 0.5960807097797922, 'ramu'),\n",
       "  Text(0.2847009827728232, -1.0625184000327659, 'ajay')],\n",
       " [Text(0.4445706752129755, 0.40293537290821096, '23.4%'),\n",
       "  Text(-0.5042690508037727, 0.32513493260715937, '34.9%'),\n",
       "  Text(0.15529144514881263, -0.5795554909269631, '41.7%')])"
      ]
     },
     "execution_count": 26,
     "metadata": {},
     "output_type": "execute_result"
    },
    {
     "data": {
      "image/png": "[encoded data removed]",
      "text/plain": [
       "<Figure size 432x288 with 1 Axes>"
      ]
     },
     "metadata": {},
     "output_type": "display_data"
    }
   ],
   "source": [
    "anand=[\"sai\",\"ramu\",\"ajay\"]\n",
    "ramu=[45,67,80]\n",
    "plt.pie(ramu,labels=anand,autopct=\"%1.1f%%\")"
   ]
  },
  {
   "cell_type": "code",
   "execution_count": 27,
   "metadata": {},
   "outputs": [
    {
     "name": "stderr",
     "output_type": "stream",
     "text": [
      "C:\\Users\\Admin\\Anaconda3\\lib\\site-packages\\matplotlib\\__init__.py:886: MatplotlibDeprecationWarning: \n",
      "examples.directory is deprecated; in the future, examples will be found relative to the 'datapath' directory.\n",
      "  \"found relative to the 'datapath' directory.\".format(key))\n",
      "C:\\Users\\Admin\\Anaconda3\\lib\\site-packages\\matplotlib\\__init__.py:886: MatplotlibDeprecationWarning: \n",
      "examples.directory is deprecated; in the future, examples will be found relative to the 'datapath' directory.\n",
      "  \"found relative to the 'datapath' directory.\".format(key))\n"
     ]
    },
    {
     "name": "stdout",
     "output_type": "stream",
     "text": [
      "Help on package matplotlib:\n",
      "\n",
      "NAME\n",
      "    matplotlib - This is an object-oriented plotting library.\n",
      "\n",
      "DESCRIPTION\n",
      "    A procedural interface is provided by the companion pyplot module,\n",
      "    which may be imported directly, e.g.::\n",
      "    \n",
      "        import matplotlib.pyplot as plt\n",
      "    \n",
      "    or using ipython::\n",
      "    \n",
      "        ipython\n",
      "    \n",
      "    at your terminal, followed by::\n",
      "    \n",
      "        In [1]: %matplotlib\n",
      "        In [2]: import matplotlib.pyplot as plt\n",
      "    \n",
      "    at the ipython shell prompt.\n",
      "    \n",
      "    For the most part, direct use of the object-oriented library is\n",
      "    encouraged when programming; pyplot is primarily for working\n",
      "    interactively.  The\n",
      "    exceptions are the pyplot commands :func:`~matplotlib.pyplot.figure`,\n",
      "    :func:`~matplotlib.pyplot.subplot`,\n",
      "    :func:`~matplotlib.pyplot.subplots`, and\n",
      "    :func:`~pyplot.savefig`, which can greatly simplify scripting.\n",
      "    \n",
      "    Modules include:\n",
      "    \n",
      "        :mod:`matplotlib.axes`\n",
      "            defines the :class:`~matplotlib.axes.Axes` class.  Most pyplot\n",
      "            commands are wrappers for :class:`~matplotlib.axes.Axes`\n",
      "            methods.  The axes module is the highest level of OO access to\n",
      "            the library.\n",
      "    \n",
      "        :mod:`matplotlib.figure`\n",
      "            defines the :class:`~matplotlib.figure.Figure` class.\n",
      "    \n",
      "        :mod:`matplotlib.artist`\n",
      "            defines the :class:`~matplotlib.artist.Artist` base class for\n",
      "            all classes that draw things.\n",
      "    \n",
      "        :mod:`matplotlib.lines`\n",
      "            defines the :class:`~matplotlib.lines.Line2D` class for\n",
      "            drawing lines and markers\n",
      "    \n",
      "        :mod:`matplotlib.patches`\n",
      "            defines classes for drawing polygons\n",
      "    \n",
      "        :mod:`matplotlib.text`\n",
      "            defines the :class:`~matplotlib.text.Text`,\n",
      "            :class:`~matplotlib.text.TextWithDash`, and\n",
      "            :class:`~matplotlib.text.Annotate` classes\n",
      "    \n",
      "        :mod:`matplotlib.image`\n",
      "            defines the :class:`~matplotlib.image.AxesImage` and\n",
      "            :class:`~matplotlib.image.FigureImage` classes\n",
      "    \n",
      "        :mod:`matplotlib.collections`\n",
      "            classes for efficient drawing of groups of lines or polygons\n",
      "    \n",
      "        :mod:`matplotlib.colors`\n",
      "            classes for interpreting color specifications and for making\n",
      "            colormaps\n",
      "    \n",
      "        :mod:`matplotlib.cm`\n",
      "            colormaps and the :class:`~matplotlib.image.ScalarMappable`\n",
      "            mixin class for providing color mapping functionality to other\n",
      "            classes\n",
      "    \n",
      "        :mod:`matplotlib.ticker`\n",
      "            classes for calculating tick mark locations and for formatting\n",
      "            tick labels\n",
      "    \n",
      "        :mod:`matplotlib.backends`\n",
      "            a subpackage with modules for various gui libraries and output\n",
      "            formats\n",
      "    \n",
      "    The base matplotlib namespace includes:\n",
      "    \n",
      "        :data:`~matplotlib.rcParams`\n",
      "            a global dictionary of default configuration settings.  It is\n",
      "            initialized by code which may be overridden by a matplotlibrc\n",
      "            file.\n",
      "    \n",
      "        :func:`~matplotlib.rc`\n",
      "            a function for setting groups of rcParams values\n",
      "    \n",
      "        :func:`~matplotlib.use`\n",
      "            a function for setting the matplotlib backend.  If used, this\n",
      "            function must be called immediately after importing matplotlib\n",
      "            for the first time.  In particular, it must be called\n",
      "            **before** importing pyplot (if pyplot is imported).\n",
      "    \n",
      "    matplotlib was initially written by John D. Hunter (1968-2012) and is now\n",
      "    developed and maintained by a host of others.\n",
      "    \n",
      "    Occasionally the internal documentation (python docstrings) will refer\n",
      "    to MATLAB&reg;, a registered trademark of The MathWorks, Inc.\n",
      "\n",
      "PACKAGE CONTENTS\n",
      "    _animation_data\n",
      "    _cm\n",
      "    _cm_listed\n",
      "    _color_data\n",
      "    _constrained_layout\n",
      "    _contour\n",
      "    _image\n",
      "    _layoutbox\n",
      "    _mathtext_data\n",
      "    _path\n",
      "    _png\n",
      "    _pylab_helpers\n",
      "    _qhull\n",
      "    _tri\n",
      "    _version\n",
      "    _windowing\n",
      "    afm\n",
      "    animation\n",
      "    artist\n",
      "    axes (package)\n",
      "    axis\n",
      "    backend_bases\n",
      "    backend_managers\n",
      "    backend_tools\n",
      "    backends (package)\n",
      "    bezier\n",
      "    blocking_input\n",
      "    category\n",
      "    cbook (package)\n",
      "    cm\n",
      "    collections\n",
      "    colorbar\n",
      "    colors\n",
      "    compat (package)\n",
      "    container\n",
      "    contour\n",
      "    dates\n",
      "    docstring\n",
      "    dviread\n",
      "    figure\n",
      "    font_manager\n",
      "    fontconfig_pattern\n",
      "    ft2font\n",
      "    gridspec\n",
      "    hatch\n",
      "    image\n",
      "    legend\n",
      "    legend_handler\n",
      "    lines\n",
      "    markers\n",
      "    mathtext\n",
      "    mlab\n",
      "    offsetbox\n",
      "    patches\n",
      "    path\n",
      "    patheffects\n",
      "    projections (package)\n",
      "    pylab\n",
      "    pyplot\n",
      "    quiver\n",
      "    rcsetup\n",
      "    sankey\n",
      "    scale\n",
      "    sphinxext (package)\n",
      "    spines\n",
      "    stackplot\n",
      "    streamplot\n",
      "    style (package)\n",
      "    table\n",
      "    testing (package)\n",
      "    texmanager\n",
      "    text\n",
      "    textpath\n",
      "    ticker\n",
      "    tight_bbox\n",
      "    tight_layout\n",
      "    transforms\n",
      "    tri (package)\n",
      "    ttconv\n",
      "    type1font\n",
      "    units\n",
      "    widgets\n",
      "\n",
      "CLASSES\n",
      "    builtins.dict(builtins.object)\n",
      "        RcParams(collections.abc.MutableMapping, builtins.dict)\n",
      "    builtins.object\n",
      "        Verbose\n",
      "        rc_context\n",
      "    collections.abc.MutableMapping(collections.abc.Mapping)\n",
      "        RcParams(collections.abc.MutableMapping, builtins.dict)\n",
      "    \n",
      "    class RcParams(collections.abc.MutableMapping, builtins.dict)\n",
      "     |  RcParams(*args, **kwargs)\n",
      "     |  \n",
      "     |  A dictionary object including validation\n",
      "     |  \n",
      "     |  validating functions are defined and associated with rc parameters in\n",
      "     |  :mod:`matplotlib.rcsetup`\n",
      "     |  \n",
      "     |  Method resolution order:\n",
      "     |      RcParams\n",
      "     |      collections.abc.MutableMapping\n",
      "     |      collections.abc.Mapping\n",
      "     |      collections.abc.Collection\n",
      "     |      collections.abc.Sized\n",
      "     |      collections.abc.Iterable\n",
      "     |      collections.abc.Container\n",
      "     |      builtins.dict\n",
      "     |      builtins.object\n",
      "     |  \n",
      "     |  Methods defined here:\n",
      "     |  \n",
      "     |  __getitem__(self, key)\n",
      "     |      x.__getitem__(y) <==> x[y]\n",
      "     |  \n",
      "     |  __init__(self, *args, **kwargs)\n",
      "     |      Initialize self.  See help(type(self)) for accurate signature.\n",
      "     |  \n",
      "     |  __iter__(self)\n",
      "     |      Yield sorted list of keys.\n",
      "     |  \n",
      "     |  __len__(self)\n",
      "     |      Return len(self).\n",
      "     |  \n",
      "     |  __repr__(self)\n",
      "     |      Return repr(self).\n",
      "     |  \n",
      "     |  __setitem__(self, key, val)\n",
      "     |      Set self[key] to value.\n",
      "     |  \n",
      "     |  __str__(self)\n",
      "     |      Return str(self).\n",
      "     |  \n",
      "     |  copy(self)\n",
      "     |      D.copy() -> a shallow copy of D\n",
      "     |  \n",
      "     |  find_all(self, pattern)\n",
      "     |      Return the subset of this RcParams dictionary whose keys match,\n",
      "     |      using :func:`re.search`, the given ``pattern``.\n",
      "     |      \n",
      "     |      .. note::\n",
      "     |      \n",
      "     |          Changes to the returned dictionary are *not* propagated to\n",
      "     |          the parent RcParams dictionary.\n",
      "     |  \n",
      "     |  ----------------------------------------------------------------------\n",
      "     |  Data descriptors defined here:\n",
      "     |  \n",
      "     |  __dict__\n",
      "     |      dictionary for instance variables (if defined)\n",
      "     |  \n",
      "     |  __weakref__\n",
      "     |      list of weak references to the object (if defined)\n",
      "     |  \n",
      "     |  msg_backend_obsolete\n",
      "     |      .. deprecated:: 3.0\n",
      "     |          The msg_backend_obsolete function was deprecated in Matplotlib 3.0 and will be removed in 3.2.\n",
      "     |      \n",
      "     |      \\\n",
      "     |  \n",
      "     |  msg_depr\n",
      "     |      .. deprecated:: 3.0\n",
      "     |          The msg_depr function was deprecated in Matplotlib 3.0 and will be removed in 3.2.\n",
      "     |      \n",
      "     |      \\\n",
      "     |  \n",
      "     |  msg_depr_ignore\n",
      "     |      .. deprecated:: 3.0\n",
      "     |          The msg_depr_ignore function was deprecated in Matplotlib 3.0 and will be removed in 3.2.\n",
      "     |      \n",
      "     |      \\\n",
      "     |  \n",
      "     |  msg_depr_set\n",
      "     |      .. deprecated:: 3.0\n",
      "     |          The msg_depr_set function was deprecated in Matplotlib 3.0 and will be removed in 3.2.\n",
      "     |      \n",
      "     |      \\\n",
      "     |  \n",
      "     |  msg_obsolete\n",
      "     |      .. deprecated:: 3.0\n",
      "     |          The msg_obsolete function was deprecated in Matplotlib 3.0 and will be removed in 3.2.\n",
      "     |      \n",
      "     |      \\\n",
      "     |  \n",
      "     |  ----------------------------------------------------------------------\n",
      "     |  Data and other attributes defined here:\n",
      "     |  \n",
      "     |  __abstractmethods__ = frozenset({'__delitem__'})\n",
      "     |  \n",
      "     |  validate = {'_internal.classic_mode': <function validate_bool>, 'agg.p...\n",
      "     |  \n",
      "     |  ----------------------------------------------------------------------\n",
      "     |  Methods inherited from collections.abc.MutableMapping:\n",
      "     |  \n",
      "     |  __delitem__(self, key)\n",
      "     |  \n",
      "     |  clear(self)\n",
      "     |      D.clear() -> None.  Remove all items from D.\n",
      "     |  \n",
      "     |  pop(self, key, default=<object object at 0x000000000055E070>)\n",
      "     |      D.pop(k[,d]) -> v, remove specified key and return the corresponding value.\n",
      "     |      If key is not found, d is returned if given, otherwise KeyError is raised.\n",
      "     |  \n",
      "     |  popitem(self)\n",
      "     |      D.popitem() -> (k, v), remove and return some (key, value) pair\n",
      "     |      as a 2-tuple; but raise KeyError if D is empty.\n",
      "     |  \n",
      "     |  setdefault(self, key, default=None)\n",
      "     |      D.setdefault(k[,d]) -> D.get(k,d), also set D[k]=d if k not in D\n",
      "     |  \n",
      "     |  update(*args, **kwds)\n",
      "     |      D.update([E, ]**F) -> None.  Update D from mapping/iterable E and F.\n",
      "     |      If E present and has a .keys() method, does:     for k in E: D[k] = E[k]\n",
      "     |      If E present and lacks .keys() method, does:     for (k, v) in E: D[k] = v\n",
      "     |      In either case, this is followed by: for k, v in F.items(): D[k] = v\n",
      "     |  \n",
      "     |  ----------------------------------------------------------------------\n",
      "     |  Methods inherited from collections.abc.Mapping:\n",
      "     |  \n",
      "     |  __contains__(self, key)\n",
      "     |  \n",
      "     |  __eq__(self, other)\n",
      "     |      Return self==value.\n",
      "     |  \n",
      "     |  get(self, key, default=None)\n",
      "     |      D.get(k[,d]) -> D[k] if k in D, else d.  d defaults to None.\n",
      "     |  \n",
      "     |  items(self)\n",
      "     |      D.items() -> a set-like object providing a view on D's items\n",
      "     |  \n",
      "     |  keys(self)\n",
      "     |      D.keys() -> a set-like object providing a view on D's keys\n",
      "     |  \n",
      "     |  values(self)\n",
      "     |      D.values() -> an object providing a view on D's values\n",
      "     |  \n",
      "     |  ----------------------------------------------------------------------\n",
      "     |  Data and other attributes inherited from collections.abc.Mapping:\n",
      "     |  \n",
      "     |  __hash__ = None\n",
      "     |  \n",
      "     |  __reversed__ = None\n",
      "     |  \n",
      "     |  ----------------------------------------------------------------------\n",
      "     |  Class methods inherited from collections.abc.Collection:\n",
      "     |  \n",
      "     |  __subclasshook__(C) from abc.ABCMeta\n",
      "     |      Abstract classes can override this to customize issubclass().\n",
      "     |      \n",
      "     |      This is invoked early on by abc.ABCMeta.__subclasscheck__().\n",
      "     |      It should return True, False or NotImplemented.  If it returns\n",
      "     |      NotImplemented, the normal algorithm is used.  Otherwise, it\n",
      "     |      overrides the normal algorithm (and the outcome is cached).\n",
      "     |  \n",
      "     |  ----------------------------------------------------------------------\n",
      "     |  Methods inherited from builtins.dict:\n",
      "     |  \n",
      "     |  __ge__(self, value, /)\n",
      "     |      Return self>=value.\n",
      "     |  \n",
      "     |  __getattribute__(self, name, /)\n",
      "     |      Return getattr(self, name).\n",
      "     |  \n",
      "     |  __gt__(self, value, /)\n",
      "     |      Return self>value.\n",
      "     |  \n",
      "     |  __le__(self, value, /)\n",
      "     |      Return self<=value.\n",
      "     |  \n",
      "     |  __lt__(self, value, /)\n",
      "     |      Return self<value.\n",
      "     |  \n",
      "     |  __ne__(self, value, /)\n",
      "     |      Return self!=value.\n",
      "     |  \n",
      "     |  __sizeof__(...)\n",
      "     |      D.__sizeof__() -> size of D in memory, in bytes\n",
      "     |  \n",
      "     |  ----------------------------------------------------------------------\n",
      "     |  Class methods inherited from builtins.dict:\n",
      "     |  \n",
      "     |  fromkeys(iterable, value=None, /) from abc.ABCMeta\n",
      "     |      Create a new dictionary with keys from iterable and values set to value.\n",
      "     |  \n",
      "     |  ----------------------------------------------------------------------\n",
      "     |  Static methods inherited from builtins.dict:\n",
      "     |  \n",
      "     |  __new__(*args, **kwargs) from builtins.type\n",
      "     |      Create and return a new object.  See help(type) for accurate signature.\n",
      "    \n",
      "    class Verbose(builtins.object)\n",
      "     |  A class to handle reporting.  Set the fileo attribute to any file\n",
      "     |  instance to handle the output.  Default is sys.stdout\n",
      "     |  \n",
      "     |  Methods defined here:\n",
      "     |  \n",
      "     |  __init__(self)\n",
      "     |      .. deprecated:: 2.2\n",
      "     |          matplotlib.verbose is deprecated;\n",
      "     |      Command line argument --verbose-LEVEL is deprecated.\n",
      "     |      This functionality is now provided by the standard\n",
      "     |      python logging library.  To get more (or less) logging output:\n",
      "     |          import logging\n",
      "     |          logger = logging.getLogger('matplotlib')\n",
      "     |          logger.set_level(logging.INFO)\n",
      "     |      \n",
      "     |      \\\n",
      "     |  \n",
      "     |  ge(self, level)\n",
      "     |      .. deprecated:: 2.2\n",
      "     |          matplotlib.verbose is deprecated;\n",
      "     |      Command line argument --verbose-LEVEL is deprecated.\n",
      "     |      This functionality is now provided by the standard\n",
      "     |      python logging library.  To get more (or less) logging output:\n",
      "     |          import logging\n",
      "     |          logger = logging.getLogger('matplotlib')\n",
      "     |          logger.set_level(logging.INFO)\n",
      "     |      \n",
      "     |      return true if self.level is >= level\n",
      "     |  \n",
      "     |  report(self, s, level='helpful')\n",
      "     |      .. deprecated:: 2.2\n",
      "     |          matplotlib.verbose is deprecated;\n",
      "     |      Command line argument --verbose-LEVEL is deprecated.\n",
      "     |      This functionality is now provided by the standard\n",
      "     |      python logging library.  To get more (or less) logging output:\n",
      "     |          import logging\n",
      "     |          logger = logging.getLogger('matplotlib')\n",
      "     |          logger.set_level(logging.INFO)\n",
      "     |      \n",
      "     |      print message s to self.fileo if self.level>=level.  Return\n",
      "     |      value indicates whether a message was issued\n",
      "     |  \n",
      "     |  set_fileo(self, fname)\n",
      "     |      .. deprecated:: 2.2\n",
      "     |          matplotlib.verbose is deprecated;\n",
      "     |      Command line argument --verbose-LEVEL is deprecated.\n",
      "     |      This functionality is now provided by the standard\n",
      "     |      python logging library.  To get more (or less) logging output:\n",
      "     |          import logging\n",
      "     |          logger = logging.getLogger('matplotlib')\n",
      "     |          logger.set_level(logging.INFO)\n",
      "     |      \n",
      "     |      \\\n",
      "     |  \n",
      "     |  set_level(self, level)\n",
      "     |      .. deprecated:: 2.2\n",
      "     |          matplotlib.verbose is deprecated;\n",
      "     |      Command line argument --verbose-LEVEL is deprecated.\n",
      "     |      This functionality is now provided by the standard\n",
      "     |      python logging library.  To get more (or less) logging output:\n",
      "     |          import logging\n",
      "     |          logger = logging.getLogger('matplotlib')\n",
      "     |          logger.set_level(logging.INFO)\n",
      "     |      \n",
      "     |      set the verbosity to one of the Verbose.levels strings\n",
      "     |  \n",
      "     |  wrap(self, fmt, func, level='helpful', always=True)\n",
      "     |      .. deprecated:: 2.2\n",
      "     |          matplotlib.verbose is deprecated;\n",
      "     |      Command line argument --verbose-LEVEL is deprecated.\n",
      "     |      This functionality is now provided by the standard\n",
      "     |      python logging library.  To get more (or less) logging output:\n",
      "     |          import logging\n",
      "     |          logger = logging.getLogger('matplotlib')\n",
      "     |          logger.set_level(logging.INFO)\n",
      "     |      \n",
      "     |      return a callable function that wraps func and reports it\n",
      "     |      output through the verbose handler if current verbosity level\n",
      "     |      is higher than level\n",
      "     |      \n",
      "     |      if always is True, the report will occur on every function\n",
      "     |      call; otherwise only on the first time the function is called\n",
      "     |  \n",
      "     |  ----------------------------------------------------------------------\n",
      "     |  Data descriptors defined here:\n",
      "     |  \n",
      "     |  __dict__\n",
      "     |      dictionary for instance variables (if defined)\n",
      "     |  \n",
      "     |  __weakref__\n",
      "     |      list of weak references to the object (if defined)\n",
      "     |  \n",
      "     |  ----------------------------------------------------------------------\n",
      "     |  Data and other attributes defined here:\n",
      "     |  \n",
      "     |  arg = r'C:\\Users\\Admin\\AppData\\Roaming\\jupyter\\runtime\\kernel-28ac9fff...\n",
      "     |  \n",
      "     |  levels = ('silent', 'helpful', 'debug', 'debug-annoying')\n",
      "     |  \n",
      "     |  vald = {'debug': 2, 'debug-annoying': 3, 'helpful': 1, 'silent': 0}\n",
      "    \n",
      "    class rc_context(builtins.object)\n",
      "     |  rc_context(rc=None, fname=None)\n",
      "     |  \n",
      "     |  Return a context manager for managing rc settings.\n",
      "     |  \n",
      "     |  This allows one to do::\n",
      "     |  \n",
      "     |      with mpl.rc_context(fname='screen.rc'):\n",
      "     |          plt.plot(x, a)\n",
      "     |          with mpl.rc_context(fname='print.rc'):\n",
      "     |              plt.plot(x, b)\n",
      "     |          plt.plot(x, c)\n",
      "     |  \n",
      "     |  The 'a' vs 'x' and 'c' vs 'x' plots would have settings from\n",
      "     |  'screen.rc', while the 'b' vs 'x' plot would have settings from\n",
      "     |  'print.rc'.\n",
      "     |  \n",
      "     |  A dictionary can also be passed to the context manager::\n",
      "     |  \n",
      "     |      with mpl.rc_context(rc={'text.usetex': True}, fname='screen.rc'):\n",
      "     |          plt.plot(x, a)\n",
      "     |  \n",
      "     |  The 'rc' dictionary takes precedence over the settings loaded from\n",
      "     |  'fname'.  Passing a dictionary only is also valid. For example a\n",
      "     |  common usage is::\n",
      "     |  \n",
      "     |      with mpl.rc_context(rc={'interactive': False}):\n",
      "     |          fig, ax = plt.subplots()\n",
      "     |          ax.plot(range(3), range(3))\n",
      "     |          fig.savefig('A.png', format='png')\n",
      "     |          plt.close(fig)\n",
      "     |  \n",
      "     |  Methods defined here:\n",
      "     |  \n",
      "     |  __enter__(self)\n",
      "     |  \n",
      "     |  __exit__(self, exc_type, exc_value, exc_tb)\n",
      "     |  \n",
      "     |  __init__(self, rc=None, fname=None)\n",
      "     |      Initialize self.  See help(type(self)) for accurate signature.\n",
      "     |  \n",
      "     |  ----------------------------------------------------------------------\n",
      "     |  Data descriptors defined here:\n",
      "     |  \n",
      "     |  __dict__\n",
      "     |      dictionary for instance variables (if defined)\n",
      "     |  \n",
      "     |  __weakref__\n",
      "     |      list of weak references to the object (if defined)\n",
      "\n",
      "FUNCTIONS\n",
      "    checkdep_dvipng()\n",
      "    \n",
      "    checkdep_ghostscript()\n",
      "    \n",
      "    checkdep_inkscape()\n",
      "    \n",
      "    checkdep_pdftops()\n",
      "    \n",
      "    checkdep_ps_distiller(s)\n",
      "    \n",
      "    checkdep_usetex(s)\n",
      "    \n",
      "    compare_versions(a, b)\n",
      "        return True if a is greater than or equal to b\n",
      "    \n",
      "    get_backend()\n",
      "        Return the name of the current backend.\n",
      "        \n",
      "        See Also\n",
      "        --------\n",
      "        matplotlib.use\n",
      "    \n",
      "    get_cachedir()\n",
      "        Return the location of the cache directory.\n",
      "        \n",
      "        The procedure used to find the directory is the same as for\n",
      "        _get_config_dir, except using `$XDG_CACHE_HOME`/`~/.cache` instead.\n",
      "    \n",
      "    get_configdir()\n",
      "        Return the string representing the configuration directory.\n",
      "        \n",
      "        The directory is chosen as follows:\n",
      "        \n",
      "        1. If the MPLCONFIGDIR environment variable is supplied, choose that.\n",
      "        2a. On Linux, follow the XDG specification and look first in\n",
      "            `$XDG_CONFIG_HOME`, if defined, or `$HOME/.config`.\n",
      "        2b. On other platforms, choose `$HOME/.matplotlib`.\n",
      "        3. If the chosen directory exists and is writable, use that as the\n",
      "           configuration directory.\n",
      "        4. If possible, create a temporary directory, and use it as the\n",
      "           configuration directory.\n",
      "        5. A writable directory could not be found or created; return None.\n",
      "    \n",
      "    get_data_path()\n",
      "    \n",
      "    get_home()\n",
      "        Return the user's home directory.\n",
      "        \n",
      "        If the user's home directory cannot be found, return None.\n",
      "    \n",
      "    get_py2exe_datafiles()\n",
      "    \n",
      "    interactive(b)\n",
      "        Set interactive mode to boolean b.\n",
      "        \n",
      "        If b is True, then draw after every plotting command, e.g., after xlabel\n",
      "    \n",
      "    is_interactive()\n",
      "        Return true if plot mode is interactive\n",
      "    \n",
      "    is_url(filename)\n",
      "        Return True if string is an http, ftp, or file URL path.\n",
      "    \n",
      "    matplotlib_fname()\n",
      "        Get the location of the config file.\n",
      "        \n",
      "        The file location is determined in the following order\n",
      "        \n",
      "        - `$PWD/matplotlibrc`\n",
      "        \n",
      "        - `$MATPLOTLIBRC` if it is a file (or a named pipe, which can be created\n",
      "          e.g. by process substitution)\n",
      "        \n",
      "        - `$MATPLOTLIBRC/matplotlibrc`\n",
      "        \n",
      "        - `$MPLCONFIGDIR/matplotlibrc`\n",
      "        \n",
      "        - On Linux,\n",
      "        \n",
      "              - `$XDG_CONFIG_HOME/matplotlib/matplotlibrc` (if\n",
      "                $XDG_CONFIG_HOME is defined)\n",
      "        \n",
      "              - or `$HOME/.config/matplotlib/matplotlibrc` (if\n",
      "                $XDG_CONFIG_HOME is not defined)\n",
      "        \n",
      "        - On other platforms,\n",
      "        \n",
      "             - `$HOME/.matplotlib/matplotlibrc` if `$HOME` is defined.\n",
      "        \n",
      "        - Lastly, it looks in `$MATPLOTLIBDATA/matplotlibrc` for a\n",
      "          system-defined copy.\n",
      "    \n",
      "    rc(group, **kwargs)\n",
      "        Set the current rc params.  *group* is the grouping for the rc, e.g.,\n",
      "        for ``lines.linewidth`` the group is ``lines``, for\n",
      "        ``axes.facecolor``, the group is ``axes``, and so on.  Group may\n",
      "        also be a list or tuple of group names, e.g., (*xtick*, *ytick*).\n",
      "        *kwargs* is a dictionary attribute name/value pairs, e.g.,::\n",
      "        \n",
      "          rc('lines', linewidth=2, color='r')\n",
      "        \n",
      "        sets the current rc params and is equivalent to::\n",
      "        \n",
      "          rcParams['lines.linewidth'] = 2\n",
      "          rcParams['lines.color'] = 'r'\n",
      "        \n",
      "        The following aliases are available to save typing for interactive\n",
      "        users:\n",
      "        \n",
      "        =====   =================\n",
      "        Alias   Property\n",
      "        =====   =================\n",
      "        'lw'    'linewidth'\n",
      "        'ls'    'linestyle'\n",
      "        'c'     'color'\n",
      "        'fc'    'facecolor'\n",
      "        'ec'    'edgecolor'\n",
      "        'mew'   'markeredgewidth'\n",
      "        'aa'    'antialiased'\n",
      "        =====   =================\n",
      "        \n",
      "        Thus you could abbreviate the above rc command as::\n",
      "        \n",
      "              rc('lines', lw=2, c='r')\n",
      "        \n",
      "        \n",
      "        Note you can use python's kwargs dictionary facility to store\n",
      "        dictionaries of default parameters.  e.g., you can customize the\n",
      "        font rc as follows::\n",
      "        \n",
      "          font = {'family' : 'monospace',\n",
      "                  'weight' : 'bold',\n",
      "                  'size'   : 'larger'}\n",
      "        \n",
      "          rc('font', **font)  # pass in the font dict as kwargs\n",
      "        \n",
      "        This enables you to easily switch between several configurations.  Use\n",
      "        ``matplotlib.style.use('default')`` or :func:`~matplotlib.rcdefaults` to\n",
      "        restore the default rc params after changes.\n",
      "    \n",
      "    rc_file(fname)\n",
      "        Update rc params from file.\n",
      "        \n",
      "        Style-blacklisted rc params (defined in\n",
      "        `matplotlib.style.core.STYLE_BLACKLIST`) are not updated.\n",
      "    \n",
      "    rc_file_defaults()\n",
      "        Restore the rc params from the original rc file loaded by Matplotlib.\n",
      "        \n",
      "        Style-blacklisted rc params (defined in\n",
      "        `matplotlib.style.core.STYLE_BLACKLIST`) are not updated.\n",
      "    \n",
      "    rc_params(fail_on_error=False)\n",
      "        Return a :class:`matplotlib.RcParams` instance from the\n",
      "        default matplotlib rc file.\n",
      "    \n",
      "    rc_params_from_file(fname, fail_on_error=False, use_default_template=True)\n",
      "        Return :class:`matplotlib.RcParams` from the contents of the given file.\n",
      "        \n",
      "        Parameters\n",
      "        ----------\n",
      "        fname : str\n",
      "            Name of file parsed for matplotlib settings.\n",
      "        fail_on_error : bool\n",
      "            If True, raise an error when the parser fails to convert a parameter.\n",
      "        use_default_template : bool\n",
      "            If True, initialize with default parameters before updating with those\n",
      "            in the given file. If False, the configuration class only contains the\n",
      "            parameters specified in the file. (Useful for updating dicts.)\n",
      "    \n",
      "    rcdefaults()\n",
      "        Restore the rc params from Matplotlib's internal default style.\n",
      "        \n",
      "        Style-blacklisted rc params (defined in\n",
      "        `matplotlib.style.core.STYLE_BLACKLIST`) are not updated.\n",
      "        \n",
      "        See Also\n",
      "        --------\n",
      "        rc_file_defaults :\n",
      "            Restore the rc params from the rc file originally loaded by Matplotlib.\n",
      "        matplotlib.style.use :\n",
      "            Use a specific style file.  Call ``style.use('default')`` to restore\n",
      "            the default style.\n",
      "    \n",
      "    test(verbosity=None, coverage=False, switch_backend_warn=True, recursionlimit=0, **kwargs)\n",
      "        run the matplotlib test suite\n",
      "    \n",
      "    tk_window_focus()\n",
      "        Return true if focus maintenance under TkAgg on win32 is on.\n",
      "        This currently works only for python.exe and IPython.exe.\n",
      "        Both IDLE and Pythonwin.exe fail badly when tk_window_focus is on.\n",
      "    \n",
      "    use(arg, warn=False, force=True)\n",
      "        Set the matplotlib backend to one of the known backends.\n",
      "        \n",
      "        Parameters\n",
      "        ----------\n",
      "        arg : str\n",
      "            The backend to switch to.  This can either be one of the\n",
      "            'standard' backend names:\n",
      "        \n",
      "            - interactive backends:\n",
      "              GTK3Agg, GTK3Cairo, MacOSX, nbAgg,\n",
      "              Qt4Agg, Qt4Cairo, Qt5Agg, Qt5Cairo,\n",
      "              TkAgg, TkCairo, WebAgg, WX, WXAgg, WXCairo\n",
      "        \n",
      "            - non-interactive backends:\n",
      "              agg, cairo, pdf, pgf, ps, svg, template\n",
      "        \n",
      "            or a string of the form: ``module://my.module.name``.\n",
      "        \n",
      "            Note: Standard backend names are case-insensitive here.\n",
      "        \n",
      "        warn : bool, optional\n",
      "            If True, warn if this is called after pyplot has been imported\n",
      "            and a backend is set up.\n",
      "        \n",
      "            defaults to False.\n",
      "        \n",
      "        force : bool, optional\n",
      "            If True, attempt to switch the backend.   An ImportError is raised if\n",
      "            an interactive backend is selected, but another interactive\n",
      "            backend has already started.  This defaults to True.\n",
      "        \n",
      "        See Also\n",
      "        --------\n",
      "        :ref:`backends`\n",
      "        matplotlib.get_backend\n",
      "\n",
      "DATA\n",
      "    URL_REGEX = re.compile('http://|https://|ftp://|file://|file:\\\\\\\\')\n",
      "    __bibtex__ = '@Article{Hunter:2007,\\n  Author    = {Hunter, J. ...ishe...\n",
      "    __version__numpy__ = '1.10.0'\n",
      "    __warningregistry__ = {'version': 33}\n",
      "    defaultParams = {'_internal.classic_mode': [False, <function validate_...\n",
      "    default_test_modules = ['matplotlib.tests', 'matplotlib.sphinxext.test...\n",
      "    rcParams = RcParams({'_internal.classic_mode': False,\n",
      "         ...nor.widt...\n",
      "    rcParamsDefault = RcParams({'_internal.classic_mode': False,\n",
      "         ...n...\n",
      "    rcParamsOrig = RcParams({'_internal.classic_mode': False,\n",
      "         ...nor....\n",
      "    verbose = <matplotlib.Verbose object>\n",
      "\n",
      "VERSION\n",
      "    3.0.3\n",
      "\n",
      "FILE\n",
      "    c:\\users\\admin\\anaconda3\\lib\\site-packages\\matplotlib\\__init__.py\n",
      "\n",
      "\n"
     ]
    },
    {
     "name": "stderr",
     "output_type": "stream",
     "text": [
      "C:\\Users\\Admin\\Anaconda3\\lib\\site-packages\\matplotlib\\__init__.py:886: MatplotlibDeprecationWarning: \n",
      "examples.directory is deprecated; in the future, examples will be found relative to the 'datapath' directory.\n",
      "  \"found relative to the 'datapath' directory.\".format(key))\n"
     ]
    }
   ],
   "source": [
    "help(\"matplotlib\")"
   ]
  },
  {
   "cell_type": "code",
   "execution_count": 3,
   "metadata": {},
   "outputs": [
    {
     "ename": "SyntaxError",
     "evalue": "invalid syntax (<ipython-input-3-bda25e1af5fd>, line 2)",
     "output_type": "error",
     "traceback": [
      "\u001b[1;36m  File \u001b[1;32m\"<ipython-input-3-bda25e1af5fd>\"\u001b[1;36m, line \u001b[1;32m2\u001b[0m\n\u001b[1;33m    def get_length(r\"C:\\Users\\Admin\\Downloads\\a.csv\"):\u001b[0m\n\u001b[1;37m                                                   ^\u001b[0m\n\u001b[1;31mSyntaxError\u001b[0m\u001b[1;31m:\u001b[0m invalid syntax\n"
     ]
    }
   ],
   "source": [
    "def_data(user)\n",
    "def get_length(r\"C:\\Users\\Admin\\Downloads\\a.csv\"):\n",
    "    with open(\"C:\\Users\\Admin\\Downloads\\a.csv\",r) as csvfile:\n",
    "        reader=csv.reader(csvfile)\n",
    "        reader_list=list(reader)\n",
    "        return len(reader_list)"
   ]
  },
  {
   "cell_type": "code",
   "execution_count": 8,
   "metadata": {},
   "outputs": [],
   "source": [
    "import pandas as pd\n",
    "lst1=pd.DataFrame({\"name\":[\"anand\",\"preethi\",\"mounika\"],\"age\":[28,34,45]})\n"
   ]
  },
  {
   "cell_type": "code",
   "execution_count": 17,
   "metadata": {
    "scrolled": true
   },
   "outputs": [
    {
     "ename": "EmptyDataError",
     "evalue": "No columns to parse from file",
     "output_type": "error",
     "traceback": [
      "\u001b[1;31m---------------------------------------------------------------------------\u001b[0m",
      "\u001b[1;31mEmptyDataError\u001b[0m                            Traceback (most recent call last)",
      "\u001b[1;32m<ipython-input-17-cb0746abdef7>\u001b[0m in \u001b[0;36m<module>\u001b[1;34m\u001b[0m\n\u001b[0;32m      1\u001b[0m \u001b[1;32mimport\u001b[0m \u001b[0mpandas\u001b[0m \u001b[1;32mas\u001b[0m \u001b[0mpd\u001b[0m\u001b[1;33m\u001b[0m\u001b[1;33m\u001b[0m\u001b[0m\n\u001b[1;32m----> 2\u001b[1;33m \u001b[0ma\u001b[0m\u001b[1;33m=\u001b[0m\u001b[0mpd\u001b[0m\u001b[1;33m.\u001b[0m\u001b[0mread_csv\u001b[0m\u001b[1;33m(\u001b[0m\u001b[1;34mr\"C:\\\\Users\\\\Admin\\\\Downloads\\\\a.csv\"\u001b[0m\u001b[1;33m)\u001b[0m\u001b[1;33m\u001b[0m\u001b[1;33m\u001b[0m\u001b[0m\n\u001b[0m\u001b[0;32m      3\u001b[0m \u001b[0ma\u001b[0m\u001b[1;33m\u001b[0m\u001b[1;33m\u001b[0m\u001b[0m\n",
      "\u001b[1;32m~\\Anaconda3\\lib\\site-packages\\pandas\\io\\parsers.py\u001b[0m in \u001b[0;36mparser_f\u001b[1;34m(filepath_or_buffer, sep, delimiter, header, names, index_col, usecols, squeeze, prefix, mangle_dupe_cols, dtype, engine, converters, true_values, false_values, skipinitialspace, skiprows, skipfooter, nrows, na_values, keep_default_na, na_filter, verbose, skip_blank_lines, parse_dates, infer_datetime_format, keep_date_col, date_parser, dayfirst, iterator, chunksize, compression, thousands, decimal, lineterminator, quotechar, quoting, doublequote, escapechar, comment, encoding, dialect, tupleize_cols, error_bad_lines, warn_bad_lines, delim_whitespace, low_memory, memory_map, float_precision)\u001b[0m\n\u001b[0;32m    700\u001b[0m                     skip_blank_lines=skip_blank_lines)\n\u001b[0;32m    701\u001b[0m \u001b[1;33m\u001b[0m\u001b[0m\n\u001b[1;32m--> 702\u001b[1;33m         \u001b[1;32mreturn\u001b[0m \u001b[0m_read\u001b[0m\u001b[1;33m(\u001b[0m\u001b[0mfilepath_or_buffer\u001b[0m\u001b[1;33m,\u001b[0m \u001b[0mkwds\u001b[0m\u001b[1;33m)\u001b[0m\u001b[1;33m\u001b[0m\u001b[1;33m\u001b[0m\u001b[0m\n\u001b[0m\u001b[0;32m    703\u001b[0m \u001b[1;33m\u001b[0m\u001b[0m\n\u001b[0;32m    704\u001b[0m     \u001b[0mparser_f\u001b[0m\u001b[1;33m.\u001b[0m\u001b[0m__name__\u001b[0m \u001b[1;33m=\u001b[0m \u001b[0mname\u001b[0m\u001b[1;33m\u001b[0m\u001b[1;33m\u001b[0m\u001b[0m\n",
      "\u001b[1;32m~\\Anaconda3\\lib\\site-packages\\pandas\\io\\parsers.py\u001b[0m in \u001b[0;36m_read\u001b[1;34m(filepath_or_buffer, kwds)\u001b[0m\n\u001b[0;32m    427\u001b[0m \u001b[1;33m\u001b[0m\u001b[0m\n\u001b[0;32m    428\u001b[0m     \u001b[1;31m# Create the parser.\u001b[0m\u001b[1;33m\u001b[0m\u001b[1;33m\u001b[0m\u001b[1;33m\u001b[0m\u001b[0m\n\u001b[1;32m--> 429\u001b[1;33m     \u001b[0mparser\u001b[0m \u001b[1;33m=\u001b[0m \u001b[0mTextFileReader\u001b[0m\u001b[1;33m(\u001b[0m\u001b[0mfilepath_or_buffer\u001b[0m\u001b[1;33m,\u001b[0m \u001b[1;33m**\u001b[0m\u001b[0mkwds\u001b[0m\u001b[1;33m)\u001b[0m\u001b[1;33m\u001b[0m\u001b[1;33m\u001b[0m\u001b[0m\n\u001b[0m\u001b[0;32m    430\u001b[0m \u001b[1;33m\u001b[0m\u001b[0m\n\u001b[0;32m    431\u001b[0m     \u001b[1;32mif\u001b[0m \u001b[0mchunksize\u001b[0m \u001b[1;32mor\u001b[0m \u001b[0miterator\u001b[0m\u001b[1;33m:\u001b[0m\u001b[1;33m\u001b[0m\u001b[1;33m\u001b[0m\u001b[0m\n",
      "\u001b[1;32m~\\Anaconda3\\lib\\site-packages\\pandas\\io\\parsers.py\u001b[0m in \u001b[0;36m__init__\u001b[1;34m(self, f, engine, **kwds)\u001b[0m\n\u001b[0;32m    893\u001b[0m             \u001b[0mself\u001b[0m\u001b[1;33m.\u001b[0m\u001b[0moptions\u001b[0m\u001b[1;33m[\u001b[0m\u001b[1;34m'has_index_names'\u001b[0m\u001b[1;33m]\u001b[0m \u001b[1;33m=\u001b[0m \u001b[0mkwds\u001b[0m\u001b[1;33m[\u001b[0m\u001b[1;34m'has_index_names'\u001b[0m\u001b[1;33m]\u001b[0m\u001b[1;33m\u001b[0m\u001b[1;33m\u001b[0m\u001b[0m\n\u001b[0;32m    894\u001b[0m \u001b[1;33m\u001b[0m\u001b[0m\n\u001b[1;32m--> 895\u001b[1;33m         \u001b[0mself\u001b[0m\u001b[1;33m.\u001b[0m\u001b[0m_make_engine\u001b[0m\u001b[1;33m(\u001b[0m\u001b[0mself\u001b[0m\u001b[1;33m.\u001b[0m\u001b[0mengine\u001b[0m\u001b[1;33m)\u001b[0m\u001b[1;33m\u001b[0m\u001b[1;33m\u001b[0m\u001b[0m\n\u001b[0m\u001b[0;32m    896\u001b[0m \u001b[1;33m\u001b[0m\u001b[0m\n\u001b[0;32m    897\u001b[0m     \u001b[1;32mdef\u001b[0m \u001b[0mclose\u001b[0m\u001b[1;33m(\u001b[0m\u001b[0mself\u001b[0m\u001b[1;33m)\u001b[0m\u001b[1;33m:\u001b[0m\u001b[1;33m\u001b[0m\u001b[1;33m\u001b[0m\u001b[0m\n",
      "\u001b[1;32m~\\Anaconda3\\lib\\site-packages\\pandas\\io\\parsers.py\u001b[0m in \u001b[0;36m_make_engine\u001b[1;34m(self, engine)\u001b[0m\n\u001b[0;32m   1120\u001b[0m     \u001b[1;32mdef\u001b[0m \u001b[0m_make_engine\u001b[0m\u001b[1;33m(\u001b[0m\u001b[0mself\u001b[0m\u001b[1;33m,\u001b[0m \u001b[0mengine\u001b[0m\u001b[1;33m=\u001b[0m\u001b[1;34m'c'\u001b[0m\u001b[1;33m)\u001b[0m\u001b[1;33m:\u001b[0m\u001b[1;33m\u001b[0m\u001b[1;33m\u001b[0m\u001b[0m\n\u001b[0;32m   1121\u001b[0m         \u001b[1;32mif\u001b[0m \u001b[0mengine\u001b[0m \u001b[1;33m==\u001b[0m \u001b[1;34m'c'\u001b[0m\u001b[1;33m:\u001b[0m\u001b[1;33m\u001b[0m\u001b[1;33m\u001b[0m\u001b[0m\n\u001b[1;32m-> 1122\u001b[1;33m             \u001b[0mself\u001b[0m\u001b[1;33m.\u001b[0m\u001b[0m_engine\u001b[0m \u001b[1;33m=\u001b[0m \u001b[0mCParserWrapper\u001b[0m\u001b[1;33m(\u001b[0m\u001b[0mself\u001b[0m\u001b[1;33m.\u001b[0m\u001b[0mf\u001b[0m\u001b[1;33m,\u001b[0m \u001b[1;33m**\u001b[0m\u001b[0mself\u001b[0m\u001b[1;33m.\u001b[0m\u001b[0moptions\u001b[0m\u001b[1;33m)\u001b[0m\u001b[1;33m\u001b[0m\u001b[1;33m\u001b[0m\u001b[0m\n\u001b[0m\u001b[0;32m   1123\u001b[0m         \u001b[1;32melse\u001b[0m\u001b[1;33m:\u001b[0m\u001b[1;33m\u001b[0m\u001b[1;33m\u001b[0m\u001b[0m\n\u001b[0;32m   1124\u001b[0m             \u001b[1;32mif\u001b[0m \u001b[0mengine\u001b[0m \u001b[1;33m==\u001b[0m \u001b[1;34m'python'\u001b[0m\u001b[1;33m:\u001b[0m\u001b[1;33m\u001b[0m\u001b[1;33m\u001b[0m\u001b[0m\n",
      "\u001b[1;32m~\\Anaconda3\\lib\\site-packages\\pandas\\io\\parsers.py\u001b[0m in \u001b[0;36m__init__\u001b[1;34m(self, src, **kwds)\u001b[0m\n\u001b[0;32m   1851\u001b[0m         \u001b[0mkwds\u001b[0m\u001b[1;33m[\u001b[0m\u001b[1;34m'usecols'\u001b[0m\u001b[1;33m]\u001b[0m \u001b[1;33m=\u001b[0m \u001b[0mself\u001b[0m\u001b[1;33m.\u001b[0m\u001b[0musecols\u001b[0m\u001b[1;33m\u001b[0m\u001b[1;33m\u001b[0m\u001b[0m\n\u001b[0;32m   1852\u001b[0m \u001b[1;33m\u001b[0m\u001b[0m\n\u001b[1;32m-> 1853\u001b[1;33m         \u001b[0mself\u001b[0m\u001b[1;33m.\u001b[0m\u001b[0m_reader\u001b[0m \u001b[1;33m=\u001b[0m \u001b[0mparsers\u001b[0m\u001b[1;33m.\u001b[0m\u001b[0mTextReader\u001b[0m\u001b[1;33m(\u001b[0m\u001b[0msrc\u001b[0m\u001b[1;33m,\u001b[0m \u001b[1;33m**\u001b[0m\u001b[0mkwds\u001b[0m\u001b[1;33m)\u001b[0m\u001b[1;33m\u001b[0m\u001b[1;33m\u001b[0m\u001b[0m\n\u001b[0m\u001b[0;32m   1854\u001b[0m         \u001b[0mself\u001b[0m\u001b[1;33m.\u001b[0m\u001b[0munnamed_cols\u001b[0m \u001b[1;33m=\u001b[0m \u001b[0mself\u001b[0m\u001b[1;33m.\u001b[0m\u001b[0m_reader\u001b[0m\u001b[1;33m.\u001b[0m\u001b[0munnamed_cols\u001b[0m\u001b[1;33m\u001b[0m\u001b[1;33m\u001b[0m\u001b[0m\n\u001b[0;32m   1855\u001b[0m \u001b[1;33m\u001b[0m\u001b[0m\n",
      "\u001b[1;32mpandas/_libs/parsers.pyx\u001b[0m in \u001b[0;36mpandas._libs.parsers.TextReader.__cinit__\u001b[1;34m()\u001b[0m\n",
      "\u001b[1;31mEmptyDataError\u001b[0m: No columns to parse from file"
     ]
    }
   ],
   "source": [
    "import pandas as pd\n",
    "a=pd.read_csv(r\"C:\\\\Users\\\\Admin\\\\Downloads\\\\a.csv\")\n",
    "a"
   ]
  },
  {
   "cell_type": "markdown",
   "metadata": {},
   "source": [
    "# 1. Define a function to read from a csv file using the pandas library and display the file data as output "
   ]
  },
  {
   "cell_type": "code",
   "execution_count": 34,
   "metadata": {},
   "outputs": [
    {
     "name": "stdout",
     "output_type": "stream",
     "text": [
      "['e name', 'employee id', 'sallary', 'sales amount', 'commission', 'total sallary', '', '', '']\n",
      "['anand', 'A1E2201', '33320', '9063', '181.26', '33501.26', '', '', '']\n",
      "['krishna sree', 'A1E2202', '20523', '6049', '120.98', '20643.98', '', '', '']\n",
      "['navya', 'A1E2203', '22401', '5599', '111.98', '22512.98', '', '', '']\n",
      "['sandesh', 'A1E2204', '48636', '9398', '187.96', '48823.96', '', '', '']\n",
      "['manoj', 'A1E2205', '35112', '5980', '119.6', '35231.6', '', '', '']\n",
      "['mounika', 'A1E2206', '37391', '9905', '198.1', '37589.1', '', '', '']\n",
      "['preethi', 'A1E2207', '21960', '7941', '158.82', '22118.82', '', '', '']\n",
      "['virendra', 'A1E2208', '37363', '8184', '163.68', '37526.68', '', '', '']\n",
      "['ajay', 'A1E2209', '45184', '7344', '146.88', '45330.88', '', '', '']\n",
      "['komali', 'A1E2210', '24325', '7169', '143.38', '24468.38', '', '', '']\n",
      "['veenila', 'A1E2211', '42748', '9011', '180.22', '42928.22', '', '', '']\n",
      "['dinesh', 'A1E2212', '39113', '7415', '148.3', '39261.3', '', '', '']\n",
      "['arvind', 'A1E2213', '28799', '7401', '148.02', '28947.02', '', '', '']\n",
      "['harsha', 'A1E2214', '44544', '6659', '133.18', '44677.18', '', '', '']\n",
      "['kranth', 'A1E2215', '42480', '8485', '169.7', '42649.7', '', '', '']\n",
      "['vinitha', 'A1E2216', '29182', '9220', '184.4', '29366.4', '', '', '']\n",
      "['ananda', 'A1E2217', '30168', '7546', '150.92', '30318.92', '', '', '']\n",
      "['raja', 'A1E2218', '34522', '7133', '142.66', '34664.66', '', '', '']\n",
      "['ali', 'A1E2219', '34136', '8066', '161.32', '34297.32', '', '', '']\n",
      "['sindhu', 'A1E2220', '28614', '5689', '113.78', '28727.78', '', '', '']\n",
      "['', '', '', '', '', '', '', '', '']\n",
      "['total', '', '680521', '153257', '3065.14', '', '', '', '']\n",
      "['', '', '', '', '', '', '', '', '']\n",
      "['', '', '', '', '', '', '', '', '']\n",
      "['s.no', 'student name ', 'maths', 'physics', 'chemistry', 'total', 'average', 'max marks', 'min marks']\n",
      "['1', 'a1', '6', '65', '21', '92', '41', '65', '36']\n",
      "['2', 'a2', '36', '61', '70', '167', '30.66666667', '70', '21']\n",
      "['3', 'a3', '29', '42', '21', '92', '55.66666667', '42', '60']\n",
      "['4', 'a4', '64', '67', '60', '191', '30.66666667', '67', '16']\n",
      "['5', 'a5', '30', '64', '16', '110', '63.66666667', '64', '49']\n",
      "['6', 'a6', '58', '74', '49', '181', '36.66666667', '74', '69']\n",
      "['7', 'a7', '74', '69', '74', '217', '60.33333333', '74', '5']\n",
      "['8', 'a8', '72', '5', '46', '123', '72.33333333', '72', '61']\n",
      "['9', 'a9', '69', '61', '67', '197', '41', '69', '18']\n",
      "['10', 'a10', '56', '48', '18', '122', '65.66666667', '56', '20']\n",
      "['11', 'a11', '20', '49', '35', '104', '40.66666667', '49', '45']\n",
      "['12', 'a12', '55', '75', '45', '175', '34.66666667', '75', '11']\n",
      "['13', 'a13', '25', '70', '11', '106', '58.33333333', '70', '39']\n",
      "['14', 'a14', '39', '49', '60', '148', '35.33333333', '60', '31']\n",
      "['15', 'a15', '31', '47', '63', '141', '49.33333333', '63', '0']\n"
     ]
    }
   ],
   "source": [
    "import csv\n",
    "with open(r\"C:\\Users\\Admin\\Downloads\\a.csv\",'r') as  csv_file:\n",
    "    reader = csv.reader(csv_file)\n",
    "    for row in reader:\n",
    "        print(row)"
   ]
  },
  {
   "cell_type": "markdown",
   "metadata": {},
   "source": [
    "# 2. Define a function to add new row data to a csv file "
   ]
  },
  {
   "cell_type": "code",
   "execution_count": 12,
   "metadata": {
    "scrolled": true
   },
   "outputs": [
    {
     "name": "stdout",
     "output_type": "stream",
     "text": [
      "4\n",
      " Danny\n",
      " New York\n"
     ]
    }
   ],
   "source": [
    "import csv\n",
    "row = [4 , ' Danny', ' New York']\n",
    "with open(\"C:\\\\Users\\\\Admin\\\\Downloads\\\\a.csv\",'w') as csv_file:\n",
    "    writer = csv.writer(csv_file)\n",
    "    for reader in row:\n",
    "        print(reader)"
   ]
  },
  {
   "cell_type": "code",
   "execution_count": 13,
   "metadata": {},
   "outputs": [
    {
     "data": {
      "text/plain": [
       "[4, ' Danny', ' New York']"
      ]
     },
     "execution_count": 13,
     "metadata": {},
     "output_type": "execute_result"
    }
   ],
   "source": [
    "row"
   ]
  },
  {
   "cell_type": "code",
   "execution_count": 59,
   "metadata": {},
   "outputs": [
    {
     "data": {
      "text/html": [
       "<div>\n",
       "<style scoped>\n",
       "    .dataframe tbody tr th:only-of-type {\n",
       "        vertical-align: middle;\n",
       "    }\n",
       "\n",
       "    .dataframe tbody tr th {\n",
       "        vertical-align: top;\n",
       "    }\n",
       "\n",
       "    .dataframe thead th {\n",
       "        text-align: right;\n",
       "    }\n",
       "</style>\n",
       "<table border=\"1\" class=\"dataframe\">\n",
       "  <thead>\n",
       "    <tr style=\"text-align: right;\">\n",
       "      <th></th>\n",
       "      <th>name</th>\n",
       "      <th>age</th>\n",
       "    </tr>\n",
       "  </thead>\n",
       "  <tbody>\n",
       "    <tr>\n",
       "      <th>0</th>\n",
       "      <td>anand</td>\n",
       "      <td>28</td>\n",
       "    </tr>\n",
       "    <tr>\n",
       "      <th>1</th>\n",
       "      <td>preethi</td>\n",
       "      <td>34</td>\n",
       "    </tr>\n",
       "    <tr>\n",
       "      <th>2</th>\n",
       "      <td>mounika</td>\n",
       "      <td>45</td>\n",
       "    </tr>\n",
       "  </tbody>\n",
       "</table>\n",
       "</div>"
      ],
      "text/plain": [
       "      name  age\n",
       "0    anand   28\n",
       "1  preethi   34\n",
       "2  mounika   45"
      ]
     },
     "execution_count": 59,
     "metadata": {},
     "output_type": "execute_result"
    }
   ],
   "source": [
    "lst1"
   ]
  },
  {
   "cell_type": "code",
   "execution_count": 67,
   "metadata": {},
   "outputs": [],
   "source": [
    "import csv\n",
    "row = [' Danny',40 ]\n",
    "with open('lst1.csv', 'a') as csvFile:\n",
    "    writer = csv.writer(csvFile)\n",
    "    writer.writerow(row)\n",
    "csvFile.close()"
   ]
  },
  {
   "cell_type": "code",
   "execution_count": 68,
   "metadata": {},
   "outputs": [
    {
     "data": {
      "text/html": [
       "<div>\n",
       "<style scoped>\n",
       "    .dataframe tbody tr th:only-of-type {\n",
       "        vertical-align: middle;\n",
       "    }\n",
       "\n",
       "    .dataframe tbody tr th {\n",
       "        vertical-align: top;\n",
       "    }\n",
       "\n",
       "    .dataframe thead th {\n",
       "        text-align: right;\n",
       "    }\n",
       "</style>\n",
       "<table border=\"1\" class=\"dataframe\">\n",
       "  <thead>\n",
       "    <tr style=\"text-align: right;\">\n",
       "      <th></th>\n",
       "      <th>name</th>\n",
       "      <th>age</th>\n",
       "    </tr>\n",
       "  </thead>\n",
       "  <tbody>\n",
       "    <tr>\n",
       "      <th>0</th>\n",
       "      <td>anand</td>\n",
       "      <td>28</td>\n",
       "    </tr>\n",
       "    <tr>\n",
       "      <th>1</th>\n",
       "      <td>preethi</td>\n",
       "      <td>34</td>\n",
       "    </tr>\n",
       "    <tr>\n",
       "      <th>2</th>\n",
       "      <td>mounika</td>\n",
       "      <td>45</td>\n",
       "    </tr>\n",
       "  </tbody>\n",
       "</table>\n",
       "</div>"
      ],
      "text/plain": [
       "      name  age\n",
       "0    anand   28\n",
       "1  preethi   34\n",
       "2  mounika   45"
      ]
     },
     "execution_count": 68,
     "metadata": {},
     "output_type": "execute_result"
    }
   ],
   "source": [
    "lst1"
   ]
  },
  {
   "cell_type": "code",
   "execution_count": 4,
   "metadata": {},
   "outputs": [],
   "source": [
    "import csv\n",
    "csvData = [['Person', 'Age'], ['Peter', '22'], ['Jasmine', '21'], ['Sam', '24']]\n",
    "with open('lst1.csv', 'w') as csvFile:\n",
    "    writer = csv.writer(csvFile)\n",
    "    writer.writerows(csvData)\n",
    "csvFile.close()"
   ]
  },
  {
   "cell_type": "code",
   "execution_count": 3,
   "metadata": {},
   "outputs": [],
   "source": [
    "import csv\n",
    "csvData = [['Fruit', 'Quantity'], ['Apple', '5'], ['Orange', '7'], ['Mango', '8']]\n",
    "csv.register_dialect('myDialect', delimiter = '|', lineterminator = '\\r\\n\\r\\n')\n",
    "with open('lineterminator.csv', 'w') as f:\n",
    "    writer = csv.writer(f, dialect='myDialect')\n",
    "    writer.writerows(csvData)\n",
    "f.close()"
   ]
  },
  {
   "cell_type": "markdown",
   "metadata": {},
   "source": []
  },
  {
   "cell_type": "code",
   "execution_count": 5,
   "metadata": {},
   "outputs": [],
   "source": [
    "def writer(header, data, ):\n",
    "    with open (filename, \"w\", newline = \"\") as csvfile:\n",
    "        movies = csv.writer(csvfile)\n",
    "    movies.writerow(header)\n",
    "    for x in data:\n",
    "          movies.writerow(x)"
   ]
  },
  {
   "cell_type": "markdown",
   "metadata": {},
   "source": [
    "# .Define a function to update/modify a row in a csv file "
   ]
  },
  {
   "cell_type": "code",
   "execution_count": null,
   "metadata": {},
   "outputs": [],
   "source": []
  }
 ],
 "metadata": {
  "kernelspec": {
   "display_name": "Python 3",
   "language": "python",
   "name": "python3"
  },
  "language_info": {
   "codemirror_mode": {
    "name": "ipython",
    "version": 3
   },
   "file_extension": ".py",
   "mimetype": "text/x-python",
   "name": "python",
   "nbconvert_exporter": "python",
   "pygments_lexer": "ipython3",
   "version": "3.7.3"
  }
 },
 "nbformat": 4,
 "nbformat_minor": 2
}
